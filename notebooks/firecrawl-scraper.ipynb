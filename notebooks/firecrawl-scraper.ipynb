{
 "cells": [
  {
   "cell_type": "markdown",
   "id": "273baa7a-71ee-40ae-aa7a-449179c2d3c7",
   "metadata": {},
   "source": [
    "# FireCrawl example\n",
    "\n",
    "- [firecrawl](https://firecrawl.dev) 테스트\n",
    "- DOM 구조를 몰라도 의미적으로 필요한 정보를 가져올 수 있다.\n",
    "\n",
    "## Install Deps"
   ]
  },
  {
   "cell_type": "code",
   "execution_count": 2,
   "id": "04926413-ff33-46e2-b25f-52553bcf922a",
   "metadata": {},
   "outputs": [],
   "source": [
    "!pip -q install firecrawl-py -U"
   ]
  },
  {
   "cell_type": "markdown",
   "id": "450c5600-6663-4245-a261-2589f110af12",
   "metadata": {},
   "source": [
    "## Setup"
   ]
  },
  {
   "cell_type": "code",
   "execution_count": 3,
   "id": "a1feb60b-8761-4ce0-9a2d-eaf47f6d4bcc",
   "metadata": {},
   "outputs": [],
   "source": [
    "import os\n",
    "from getpass import getpass\n",
    "\n",
    "from pydantic import BaseModel, Field\n",
    "from firecrawl import FirecrawlApp"
   ]
  },
  {
   "cell_type": "code",
   "execution_count": 4,
   "id": "c670b3d5-12ee-403d-9ca2-98b51337e4c6",
   "metadata": {},
   "outputs": [
    {
     "name": "stdin",
     "output_type": "stream",
     "text": [
      "FIRE_CRAWL_API_KEY:  ········\n"
     ]
    }
   ],
   "source": [
    "FIRE_CRAWL_API_KEY = os.environ.get(\"FIRE_CRAWL_API_KEY\")\n",
    "if not FIRE_CRAWL_API_KEY:\n",
    "    FIRE_CRAWL_API_KEY = getpass(\"FIRE_CRAWL_API_KEY: \")"
   ]
  },
  {
   "cell_type": "code",
   "execution_count": 5,
   "id": "eccbb732-7673-4b40-b969-015a2f7f2dd8",
   "metadata": {},
   "outputs": [],
   "source": [
    "app = FirecrawlApp(api_key=FIRE_CRAWL_API_KEY)"
   ]
  },
  {
   "cell_type": "markdown",
   "id": "5017a18f-3cdf-41d2-ace8-ab2a1cc3a10f",
   "metadata": {},
   "source": [
    "## Usage"
   ]
  },
  {
   "cell_type": "code",
   "execution_count": 6,
   "id": "00369af6-8631-495c-9820-e0ad32b861d3",
   "metadata": {},
   "outputs": [
    {
     "data": {
      "text/plain": [
       "'https://lol.inven.co.kr/dataninfo/champion/manualTool.php?confirm=2'"
      ]
     },
     "execution_count": 6,
     "metadata": {},
     "output_type": "execute_result"
    }
   ],
   "source": [
    "url = \"https://lol.inven.co.kr/dataninfo/champion/manualTool.php?confirm=2\"\n",
    "url"
   ]
  },
  {
   "cell_type": "code",
   "execution_count": 9,
   "id": "2371b028-fadb-43f5-91cb-188f02c5af27",
   "metadata": {},
   "outputs": [],
   "source": [
    "class Tactic(BaseModel):\n",
    "    link: str\n",
    "    title: str\n",
    "    champion: str\n",
    "    season: list[str]\n",
    "    published_at: str\n",
    "\n",
    "class ExtractSchema(BaseModel):\n",
    "    tactics: list[Tactic]"
   ]
  },
  {
   "cell_type": "code",
   "execution_count": 10,
   "id": "7c78c7a2-89a8-4022-af68-4daaf3566148",
   "metadata": {},
   "outputs": [
    {
     "data": {
      "text/plain": [
       "{'$defs': {'Tactic': {'properties': {'link': {'title': 'Link',\n",
       "     'type': 'string'},\n",
       "    'title': {'title': 'Title', 'type': 'string'},\n",
       "    'champion': {'title': 'Champion', 'type': 'string'},\n",
       "    'season': {'items': {'type': 'string'},\n",
       "     'title': 'Season',\n",
       "     'type': 'array'},\n",
       "    'published_at': {'title': 'Published At', 'type': 'string'}},\n",
       "   'required': ['link', 'title', 'champion', 'season', 'published_at'],\n",
       "   'title': 'Tactic',\n",
       "   'type': 'object'}},\n",
       " 'properties': {'tactics': {'items': {'$ref': '#/$defs/Tactic'},\n",
       "   'title': 'Tactics',\n",
       "   'type': 'array'}},\n",
       " 'required': ['tactics'],\n",
       " 'title': 'ExtractSchema',\n",
       " 'type': 'object'}"
      ]
     },
     "execution_count": 10,
     "metadata": {},
     "output_type": "execute_result"
    }
   ],
   "source": [
    "ExtractSchema.model_json_schema()"
   ]
  },
  {
   "cell_type": "code",
   "execution_count": 14,
   "id": "24d32978-0fc9-4a2e-b237-08ecd6255185",
   "metadata": {},
   "outputs": [
    {
     "name": "stdout",
     "output_type": "stream",
     "text": [
      "dict_keys(['metadata', 'extract'])\n",
      "CPU times: user 14.5 ms, sys: 7.33 ms, total: 21.9 ms\n",
      "Wall time: 15.2 s\n"
     ]
    }
   ],
   "source": [
    "%%time\n",
    "\n",
    "data = app.scrape_url(url, {\n",
    "    'formats': ['extract'],\n",
    "    'extract': {\n",
    "        'prompt': 'Extract the user published tactics from the table tag in the page.',\n",
    "        'schema': ExtractSchema.model_json_schema(),\n",
    "    }\n",
    "})\n",
    "print(data.keys())"
   ]
  },
  {
   "cell_type": "code",
   "execution_count": 15,
   "id": "b6a41e7a-5174-46b7-b230-4a28816c3c2e",
   "metadata": {},
   "outputs": [
    {
     "name": "stdout",
     "output_type": "stream",
     "text": [
      "5\n"
     ]
    },
    {
     "data": {
      "text/plain": [
       "[{'link': 'manualToolView.php?idx=148111',\n",
       "  'title': '미드 카서스',\n",
       "  'champion': '카서스',\n",
       "  'season': ['시즌14'],\n",
       "  'published_at': '09-22'},\n",
       " {'link': 'manualToolView.php?idx=148105',\n",
       "  'title': '힐 집중 강화 니달리 서폿 공략(업데이트)',\n",
       "  'champion': '니달리',\n",
       "  'season': ['시즌14'],\n",
       "  'published_at': '09-22'},\n",
       " {'link': 'manualToolView.php?idx=109083',\n",
       "  'title': 'SeasonⅤ Ezreal - The Prodigal Explorer',\n",
       "  'champion': '이즈리얼',\n",
       "  'season': ['시즌Ⅴ'],\n",
       "  'published_at': '09-22'},\n",
       " {'link': 'manualToolView.php?idx=148110',\n",
       "  'title': '앙?',\n",
       "  'champion': '케인',\n",
       "  'season': ['시즌14'],\n",
       "  'published_at': '09-22'},\n",
       " {'link': 'manualToolView.php?idx=148109',\n",
       "  'title': '브라이어',\n",
       "  'champion': '브라이어',\n",
       "  'season': ['시즌14'],\n",
       "  'published_at': '09-22'}]"
      ]
     },
     "execution_count": 15,
     "metadata": {},
     "output_type": "execute_result"
    }
   ],
   "source": [
    "tactics = data['extract']['tactics']\n",
    "print(len(tactics))\n",
    "tactics"
   ]
  },
  {
   "cell_type": "code",
   "execution_count": null,
   "id": "7a49686e-ad1b-411d-9f68-1e853fdf04b5",
   "metadata": {},
   "outputs": [],
   "source": []
  }
 ],
 "metadata": {
  "kernelspec": {
   "display_name": "Python 3 (ipykernel)",
   "language": "python",
   "name": "python3"
  },
  "language_info": {
   "codemirror_mode": {
    "name": "ipython",
    "version": 3
   },
   "file_extension": ".py",
   "mimetype": "text/x-python",
   "name": "python",
   "nbconvert_exporter": "python",
   "pygments_lexer": "ipython3",
   "version": "3.10.14"
  }
 },
 "nbformat": 4,
 "nbformat_minor": 5
}
