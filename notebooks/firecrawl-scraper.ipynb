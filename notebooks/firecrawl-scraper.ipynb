{
 "cells": [
  {
   "cell_type": "markdown",
   "id": "273baa7a-71ee-40ae-aa7a-449179c2d3c7",
   "metadata": {},
   "source": [
    "# FireCrawl example\n",
    "\n",
    "- [firecrawl](https://firecrawl.dev) 테스트\n",
    "- DOM 구조를 몰라도 의미적으로 필요한 정보를 가져올 수 있다.\n",
    "\n",
    "## Install Deps"
   ]
  },
  {
   "cell_type": "code",
   "execution_count": 1,
   "id": "04926413-ff33-46e2-b25f-52553bcf922a",
   "metadata": {},
   "outputs": [],
   "source": [
    "!pip -q install firecrawl-py -U"
   ]
  },
  {
   "cell_type": "markdown",
   "id": "450c5600-6663-4245-a261-2589f110af12",
   "metadata": {},
   "source": [
    "## Setup"
   ]
  },
  {
   "cell_type": "code",
   "execution_count": 28,
   "id": "a1feb60b-8761-4ce0-9a2d-eaf47f6d4bcc",
   "metadata": {},
   "outputs": [],
   "source": [
    "import os\n",
    "from typing import List\n",
    "from getpass import getpass\n",
    "\n",
    "from pydantic import BaseModel, Field\n",
    "from firecrawl import FirecrawlApp"
   ]
  },
  {
   "cell_type": "code",
   "execution_count": 3,
   "id": "c670b3d5-12ee-403d-9ca2-98b51337e4c6",
   "metadata": {},
   "outputs": [
    {
     "name": "stdin",
     "output_type": "stream",
     "text": [
      "FIRE_CRAWL_API_KEY:  ········\n"
     ]
    }
   ],
   "source": [
    "FIRE_CRAWL_API_KEY = os.environ.get(\"FIRE_CRAWL_API_KEY\")\n",
    "if not FIRE_CRAWL_API_KEY:\n",
    "    FIRE_CRAWL_API_KEY = getpass(\"FIRE_CRAWL_API_KEY: \")"
   ]
  },
  {
   "cell_type": "code",
   "execution_count": 29,
   "id": "eccbb732-7673-4b40-b969-015a2f7f2dd8",
   "metadata": {},
   "outputs": [],
   "source": [
    "app = FirecrawlApp(api_key=FIRE_CRAWL_API_KEY)"
   ]
  },
  {
   "cell_type": "markdown",
   "id": "5017a18f-3cdf-41d2-ace8-ab2a1cc3a10f",
   "metadata": {},
   "source": [
    "## Usage"
   ]
  },
  {
   "cell_type": "code",
   "execution_count": 56,
   "id": "00369af6-8631-495c-9820-e0ad32b861d3",
   "metadata": {},
   "outputs": [
    {
     "data": {
      "text/plain": [
       "'https://lol.inven.co.kr/dataninfo/champion/manualTool.php?confirm=2&season=14'"
      ]
     },
     "execution_count": 56,
     "metadata": {},
     "output_type": "execute_result"
    }
   ],
   "source": [
    "url = \"https://lol.inven.co.kr/dataninfo/champion/manualTool.php?confirm=2&season=14\"\n",
    "url"
   ]
  },
  {
   "cell_type": "code",
   "execution_count": 57,
   "id": "2371b028-fadb-43f5-91cb-188f02c5af27",
   "metadata": {},
   "outputs": [],
   "source": [
    "class Article(BaseModel):\n",
    "    \"\"\"\n",
    "    Champion tactic article schema.\n",
    "    Contains details about how to play and win with a specific LOL champion.\n",
    "    \"\"\"\n",
    "\n",
    "    title: str = Field(..., description=\"The title of the article.\")\n",
    "    url: str = Field(..., description=\"The URL link to the article.\")\n",
    "    season: int = Field(..., description=\"The LOL season number for the article.\")\n",
    "    published_at: str = Field(\n",
    "        ..., \n",
    "        description=\"The published date of the article in RFC 3339 format.\"\n",
    "    )\n",
    "\n",
    "class ExtractSchema(BaseModel):\n",
    "    \"\"\"\n",
    "    Schema to extract articles for the tactics from a page.\n",
    "    \"\"\"\n",
    "\n",
    "    articles: List[Article] = Field(\n",
    "        ..., \n",
    "        description=\"A list of LOL champion tactic article objects extracted from the page.\"\n",
    "    )"
   ]
  },
  {
   "cell_type": "code",
   "execution_count": 58,
   "id": "7c78c7a2-89a8-4022-af68-4daaf3566148",
   "metadata": {},
   "outputs": [
    {
     "data": {
      "text/plain": [
       "{'$defs': {'Article': {'description': 'Champion tactic article schema.\\nContains details about how to play and win with a specific LOL champion.',\n",
       "   'properties': {'title': {'description': 'The title of the article.',\n",
       "     'title': 'Title',\n",
       "     'type': 'string'},\n",
       "    'url': {'description': 'The URL link to the article.',\n",
       "     'title': 'Url',\n",
       "     'type': 'string'},\n",
       "    'season': {'description': 'The LOL season number for the article.',\n",
       "     'title': 'Season',\n",
       "     'type': 'integer'},\n",
       "    'published_at': {'description': 'The published date of the article in RFC 3339 format.',\n",
       "     'title': 'Published At',\n",
       "     'type': 'string'}},\n",
       "   'required': ['title', 'url', 'season', 'published_at'],\n",
       "   'title': 'Article',\n",
       "   'type': 'object'}},\n",
       " 'description': 'Schema to extract articles for the tactics from a page.',\n",
       " 'properties': {'articles': {'description': 'A list of LOL champion tactic article objects extracted from the page.',\n",
       "   'items': {'$ref': '#/$defs/Article'},\n",
       "   'title': 'Articles',\n",
       "   'type': 'array'}},\n",
       " 'required': ['articles'],\n",
       " 'title': 'ExtractSchema',\n",
       " 'type': 'object'}"
      ]
     },
     "execution_count": 58,
     "metadata": {},
     "output_type": "execute_result"
    }
   ],
   "source": [
    "ExtractSchema.model_json_schema()"
   ]
  },
  {
   "cell_type": "code",
   "execution_count": 59,
   "id": "24d32978-0fc9-4a2e-b237-08ecd6255185",
   "metadata": {},
   "outputs": [
    {
     "name": "stdout",
     "output_type": "stream",
     "text": [
      "dict_keys(['metadata', 'extract'])\n",
      "CPU times: user 15.7 ms, sys: 6.29 ms, total: 22 ms\n",
      "Wall time: 11.7 s\n"
     ]
    }
   ],
   "source": [
    "%%time\n",
    "\n",
    "data = app.scrape_url(url, {\n",
    "    'formats': ['extract'],\n",
    "    'extract': {\n",
    "        'prompt': 'Extract the LOL champion tactic articles at the <table> tag in the page. Each table row is an article.',\n",
    "        'schema': ExtractSchema.model_json_schema(),\n",
    "    }\n",
    "})\n",
    "print(data.keys())"
   ]
  },
  {
   "cell_type": "code",
   "execution_count": 60,
   "id": "b6a41e7a-5174-46b7-b230-4a28816c3c2e",
   "metadata": {},
   "outputs": [
    {
     "name": "stdout",
     "output_type": "stream",
     "text": [
      "4\n"
     ]
    },
    {
     "data": {
      "text/plain": [
       "[{'title': '[GM]AP 샤코 서폿 설명 길게 안함',\n",
       "  'url': 'manualToolView.php?idx=146545',\n",
       "  'season': 14,\n",
       "  'published_at': '09-22'},\n",
       " {'title': '★(마스터) 시즌 완벽 적응 개사기 ..',\n",
       "  'url': 'manualToolView.php?idx=148044',\n",
       "  'season': 14,\n",
       "  'published_at': '07-26'},\n",
       " {'title': '[GM1]프로 1군원딜들 피셜 근본 원딜..',\n",
       "  'url': 'manualToolView.php?idx=148047',\n",
       "  'season': 14,\n",
       "  'published_at': '03-16'},\n",
       " {'title': 'M)시즌 5부터 딩거 한 유저의 공략',\n",
       "  'url': 'manualToolView.php?idx=148020',\n",
       "  'season': 14,\n",
       "  'published_at': '02-05'}]"
      ]
     },
     "execution_count": 60,
     "metadata": {},
     "output_type": "execute_result"
    }
   ],
   "source": [
    "tactics = data['extract']['articles']\n",
    "print(len(tactics))\n",
    "tactics"
   ]
  },
  {
   "cell_type": "code",
   "execution_count": null,
   "id": "7a49686e-ad1b-411d-9f68-1e853fdf04b5",
   "metadata": {},
   "outputs": [],
   "source": []
  }
 ],
 "metadata": {
  "kernelspec": {
   "display_name": "Python 3 (ipykernel)",
   "language": "python",
   "name": "python3"
  },
  "language_info": {
   "codemirror_mode": {
    "name": "ipython",
    "version": 3
   },
   "file_extension": ".py",
   "mimetype": "text/x-python",
   "name": "python",
   "nbconvert_exporter": "python",
   "pygments_lexer": "ipython3",
   "version": "3.10.14"
  }
 },
 "nbformat": 4,
 "nbformat_minor": 5
}
