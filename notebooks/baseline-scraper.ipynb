{
 "cells": [
  {
   "cell_type": "markdown",
   "id": "261bbe4a",
   "metadata": {},
   "source": [
    "# Baseline Scraper\n",
    "- 웹페이지 주소를 입력해서 텍스트만 추출한다."
   ]
  },
  {
   "cell_type": "code",
   "execution_count": 1,
   "id": "8b910ab9",
   "metadata": {},
   "outputs": [
    {
     "name": "stdout",
     "output_type": "stream",
     "text": [
      "\n",
      "\u001b[1m[\u001b[0m\u001b[34;49mnotice\u001b[0m\u001b[1;39;49m]\u001b[0m\u001b[39;49m A new release of pip is available: \u001b[0m\u001b[31;49m24.2\u001b[0m\u001b[39;49m -> \u001b[0m\u001b[32;49m24.3.1\u001b[0m\n",
      "\u001b[1m[\u001b[0m\u001b[34;49mnotice\u001b[0m\u001b[1;39;49m]\u001b[0m\u001b[39;49m To update, run: \u001b[0m\u001b[32;49mpip install --upgrade pip\u001b[0m\n"
     ]
    }
   ],
   "source": [
    "!pip -q install -U requests beautifulsoup4 trafilatura"
   ]
  },
  {
   "cell_type": "code",
   "execution_count": 2,
   "id": "eb72ba2d",
   "metadata": {},
   "outputs": [],
   "source": [
    "import os\n",
    "import json\n",
    "\n",
    "# web scraping\n",
    "import requests\n",
    "import trafilatura\n",
    "from bs4 import BeautifulSoup"
   ]
  },
  {
   "cell_type": "code",
   "execution_count": 3,
   "id": "614e894f",
   "metadata": {},
   "outputs": [],
   "source": [
    "url = \"https://lol.inven.co.kr/dataninfo/champion/manualTool.php?confirm=2\""
   ]
  },
  {
   "cell_type": "code",
   "execution_count": 4,
   "id": "21a2f23e",
   "metadata": {},
   "outputs": [],
   "source": [
    "def bs4_scrape(response_content):\n",
    "    print('fallback parser...')\n",
    "    soup = BeautifulSoup(response_content, 'html.parser')\n",
    "    text = soup.find_all(string=True)\n",
    "    cleaned_text = ''\n",
    "    blacklist = [\n",
    "        '[document]',\n",
    "        'noscript',\n",
    "        'header',\n",
    "        'html',\n",
    "        'meta',\n",
    "        'head', \n",
    "        'input',\n",
    "        'script',\n",
    "        'style',]\n",
    "\n",
    "    for item in text:\n",
    "        if item.parent.name not in blacklist:\n",
    "            cleaned_text += '{} '.format(item)\n",
    "            \n",
    "    cleaned_text = cleaned_text.replace('\\t', '')\n",
    "    return cleaned_text.strip()"
   ]
  },
  {
   "cell_type": "code",
   "execution_count": 5,
   "id": "ec182c0c",
   "metadata": {},
   "outputs": [],
   "source": [
    "def scrape(response_content):    \n",
    "    print('trafilatura parser...')\n",
    "    contents = trafilatura.extract(\n",
    "        response_content, output_format=\"json\",\n",
    "        include_tables=True,\n",
    "        include_comments=False, include_links=True, with_metadata=True,\n",
    "    )\n",
    "    \n",
    "    if contents:\n",
    "        json_output = json.loads(contents)\n",
    "        return json_output['text']\n",
    "    else:\n",
    "        try:\n",
    "            resp = requests.get(url)\n",
    "            if resp.status_code == 200:\n",
    "                return fallback_parse(resp.content)\n",
    "            else:\n",
    "                return None\n",
    "        except Exception as e:\n",
    "            print(e)\n",
    "            raise e"
   ]
  },
  {
   "cell_type": "code",
   "execution_count": 6,
   "id": "654dd916",
   "metadata": {},
   "outputs": [
    {
     "name": "stdout",
     "output_type": "stream",
     "text": [
      "trafilatura parser...\n",
      "len: 4009\n",
      "\n",
      "CPU times: user 139 ms, sys: 4.93 ms, total: 144 ms\n",
      "Wall time: 476 ms\n"
     ]
    },
    {
     "data": {
      "text/plain": [
       "'LoL 챔피언 공략 게시판\\n최근 평가된 공략\\n[미드 카서스](manualToolView.php?idx=148111)[평가:1][힐 집중 강화 니달리 서폿 공략(업데이트)](manualToolView.php?idx=148105)[평가:1][SeasonⅤ Ezreal - The Prodigal Explorer](manualToolView.php?idx=109083)[평가:45][앙?](manualToolView.php?idx=148110)[평가:1][브라이어](manualToolView.php?idx=148109)[평가:4]\\n주목할 만한 공략[[?]](https://www.inven.co.kr/board/powerbbs.php?come_idx=4626&l=423789)\\n챔피언 |\\n|\\n---|\\n[갱신](https://lol.inven.co.kr/dataninfo/champion/manualTool.php?confirm=2&sort=new&pg=1)\\n[조회](https://lol.inven.co.kr/dataninfo/champion/manualTool.php?confirm=2&sort=count&pg=1)\\n[평가](https://lol.inven.co.kr/dataninfo/champion/manualTool.php?confirm=2&sort=recom&pg=1)\\n[[GM]AP 샤코 서폿 설명 길게 안함](manualToolView.php?idx=146545)[2][Fkffhfan][★(마스터) 시즌 완벽 적응 개사기 ..](manualToolView.php?idx=148044)[6][모래놀이]평가중 (2)\\n[[GM1]프로 1군원딜들 피셜 근본 원딜..](manualToolView.php?idx=148047)[나워의길][M)시즌 5부터 딩거 한 유저의 공략](manualToolView.php?idx=148020)[1][짜증유튜브][\\'장인초대석 2회 출연 및 가렌 평점..](manualToolView.php?idx=148003)[3][진짜가렌]6/6\\n[[M1] 30대중반도 마스터가는잭스공략](manualToolView.php?idx=147904)[26][곰지야]4/6\\n[M300) 트페 공략](manualToolView.php?idx=148027)[꿍덕꿍][M1 ) 시즌말에 쓰는 트린다미어 공략](manualToolView.php?idx=148014)[고기분쇄기][케이틀린](manualToolView.php?idx=147527)[9][달인케이틀린]4/5\\n[선제공격 (원형낫 카직스)](manualToolView.php?idx=146620)[11][히든카직스]6/7\\n[C1)술통 살인사건 미드 그라가스 완..](manualToolView.php?idx=147408)[4][Humanoid1]평가중 (4)\\n[[M1] 초보자를 위한 라칸 공략글](manualToolView.php?idx=147960)[Diov]평가중 (1)\\n[[M1] 간단하게 보는 카타리나 공략](manualToolView.php?idx=147939)[4][용타는모데][[M1] 이보다 더 완벽한 잔나 공략은..](manualToolView.php?idx=146550)[26][도음]9/12\\n[[롤][D3] 오른장인이 알려주는 탑 오..](manualToolView.php?idx=147941)[그랩장인서폿]평가중 (2)\\n[GM 나서스 원챔](manualToolView.php?idx=147909)[10][탑수카넝]평가중 (1)\\n[[M1]◉ 시즌13루나미카운터 시야점수..](manualToolView.php?idx=147878)[2][차마노]평가중 (2)\\n[시즌13 11/23 프리시즌진행중 모데..](manualToolView.php?idx=145898)[3][라인틀딱]평가중 (3)\\n[M1) 디나이 장인 7년산 TOP 다리우스..](manualToolView.php?idx=147703)[3][폭풍다리][시즌 12) 마스터 아트록스 공략](manualToolView.php?idx=147760)[Aoxx][[D4] 유체화 여진 쉔, 피지컬 안좋은..](manualToolView.php?idx=147698)[미드트린해]평가중 (3)\\n[[M1 르블랑 1위] ♨ 최강의 딜포터 ..](manualToolView.php?idx=147832)[블나방]평가중 (1)\\n[챌린저 마오카이 서폿 장인 랭킹 1위..](manualToolView.php?idx=147817)[매루파워]평가중 (4)\\n[[LOL 시즌12] \"당신이 원하였던 바로..](manualToolView.php?idx=147768)[마시고죽어봐]평가중 (4)\\n[D3) 애쉬만큼 사기챔피언은 없습니다..](manualToolView.php?idx=147752)[3][오늘집못보내][다1)쉽지만 가장 냉정해야하는 챔프..](manualToolView.php?idx=147730)[1][백태자][[top] 나서스 12.11](manualToolView.php?idx=147133)[11][Killbeloss]평가중 (4)\\n[GM1) 3연속 너프 짜오공략](manualToolView.php?idx=147537)[운짜장]평가중 (1)\\n[[D1] 리워크 서폿 소나](manualToolView.php?idx=147485)[29][프아]10/11\\n[[M1] 시즌12 리븐 공략](manualToolView.php?idx=147648)[Resive]평가중 (2)\\n[M) 메타가 변했다 선체안쓰는 우르곳..](manualToolView.php?idx=147644)[우르곳감][연습만 하면 티어 수직상승! 심해 1..](manualToolView.php?idx=145600)[35][제라스성애자]8/13\\n[C1) 그라가스할래요 탑 그라가스 공..](manualToolView.php?idx=147582)[2][룬니]4/5\\n[M1)시즌11 탑 탐켄치 장인1등의 탐켄..](manualToolView.php?idx=147551)[2][라하랒]평가중 (2)\\n[35살 아재도 다1 가는 갱플 공략법](manualToolView.php?idx=147279)[27][마법지팡이]8/9\\n[[D3] 탑 피오라 공략(2021년 10월 2..](manualToolView.php?idx=147244)[13][Bjg9656]평가중 (3)\\n[[시즌11] 잭스 가이드](manualToolView.php?idx=147039)[21][백와가족]6/6\\n[GM1그랜드마스터 BJ영만 카타리나공..](manualToolView.php?idx=147271)[3][리그오브영만]평가중 (4)\\n[장인이 되는 길](manualToolView.php?idx=145917)[9][여리여리열]6/6\\n[(영상 有)시즌 11 탑 쉔의 완벽한 룬..](manualToolView.php?idx=147096)[9][T1shen][GM1 바루스장인의 다양한 빌드[영상..](manualToolView.php?idx=146521)[77][안녕생선]7/9\\n[[한중장인대전] GM1 275 미독아지르](manualToolView.php?idx=147209)[8][유리대포]평가중 (3)\\n[미드 초가스 가이드(모든 챔피언 상..](manualToolView.php?idx=147068)[1][마스터i]평가중 (3)\\n[M1 마오카이 서폿 탱/AP 공략](manualToolView.php?idx=146522)[2][북미서폿우재]평가중 (1)\\n[D3) [11시즌] 꿀챔 찾으시나요?](manualToolView.php?idx=146746)[4][Qnffn23][[GM] 점화텔 렝가 완벽하게 분석해드..](manualToolView.php?idx=147038)[6][몽커]평가중 (3)\\n[M1 ) 고분기의 트붕이 교보재 (feat..](manualToolView.php?idx=147169)[10][고기분쇄기]평가중 (2)\\n[[M1]소라카&유미1위 서예지의 소라카..](manualToolView.php?idx=147218)[16][핏책]5/5\\n[[정글] 11.11 정글 포지션 사망](manualToolView.php?idx=146009)[11][Yammer]4/6\\n[[시즌11] 미드 애니(Annie)](manualToolView.php?idx=147089)[16][티불장]평가중 (4)'"
      ]
     },
     "execution_count": 6,
     "metadata": {},
     "output_type": "execute_result"
    }
   ],
   "source": [
    "%%time\n",
    "\n",
    "downloaded = trafilatura.fetch_url(url)\n",
    "doc = scrape(downloaded)\n",
    "print(f'len: {len(doc)}\\n')\n",
    "if doc is None:\n",
    "    print(f'failed to parse url: {url}')\n",
    "doc"
   ]
  },
  {
   "cell_type": "code",
   "execution_count": 7,
   "id": "149c408c-180f-479d-b674-ba5e0dac113f",
   "metadata": {},
   "outputs": [
    {
     "name": "stdout",
     "output_type": "stream",
     "text": [
      "fallback parser...\n"
     ]
    },
    {
     "data": {
      "text/plain": [
       "'LoL 챔피언 공략 - 리그오브레전드 인벤 \\n \\n \\n \\n \\n 인벤 공식 앱 \\n 모바일 인벤 \\n \\n \\n 웹진 \\n 팟벤 \\n IT \\n e스포츠 \\n 사전예약 \\n 인챈트 \\n 아이마트 \\n \\n \\n \\n 회원가입 \\n 로그인 \\n 퀵링크 \\n \\n \\n \\n \\n 인벤 모바일 앱 : \\n 인벤 공식 앱 \\n \\n \\n 인벤 게임 공략 : \\n 로스트아크 \\n 리니지M \\n \\n \\n \\n \\n \\n 인벤 공식 앱 \\n 댓글 알람 기능 장착! 최신 게임뉴스를 한 눈에 보자 \\n \\n \\n     \\n \\n \\n \\n \\n \\n 로스트아크 \\n 캘린더 섬, 보스, 카오스게이트 알람! 꿀팁도 와르르 \\n \\n \\n   \\n \\n \\n \\n \\n \\n 리니지M \\n 리니지M 플레이하며 인벤 꿀팁까지 실시간으로 확인가능 \\n \\n \\n   \\n \\n \\n \\n   \\n \\n \\n \\n \\n \\n \\n \\n \\n \\n \\n \\n \\n \\n \\n \\n 홈 \\n \\n \\n \\n \\n 기록실 \\n \\n \\n LoL 기록실 - 경기기록 \\n LoL 기록실 - 선수기록 \\n LoL 기록실 - 팀 통산 \\n LoL 기록실 - 선수 통산 \\n LoL 기록실 - 챔피언 픽/밴 \\n LoL 기록실 - 래더 랭킹 \\n LoL 프로팀 정보 \\n \\n \\n \\n \\n 스킨갤러리 \\n \\n \\n \\n \\n 챔피언 \\n \\n \\n LoL 챔피언 정보 \\n 챔피언 능력치 랭킹 \\n 실시간 챔피언 평가 \\n 카운터픽 \\n \\n \\n \\n \\n 공략 \\n \\n \\n \\n \\n LoL DB \\n \\n \\n 시즌14 룬 시뮬 \\n 시즌14 아이템 DB \\n 소환사 주문 DB \\n \\n \\n \\n \\n \\n \\n \\n \\n \\n \\n            리그오브레전드 인벤         \\n \\n \\n 로그인하고 출석보상  받으세요! \\n \\n            로그인         \\n \\n 회원가입 \\n ID/PW 찾기 \\n \\n \\n \\n \\n \\n 검색 \\n \\n \\n \\n \\n LoL 뉴스 / 정보 \\n \\n 리포터뉴스 챔피언 공략 게시판 유저 정보 / 뉴스 팁과 노하우 패치 노트 버그/오류 제보 게시판   \\n 포지션 게시판 \\n \\n Top Jungle Mid Bot Support   \\n 커뮤니티 게시판 \\n \\n 소환사 광장 └ LoL/e스포츠 이야기 └ 자유 주제 └ 서브 컬쳐 LoL 티어랭킹 이슈 / 토론 게시판 사건 사고 게시판 이미지 링크 게시판 사이트 건의 / 제보 와일드 리프트 게시판 TFT 모드 게시판 칼바람 나락 게시판 LCK 응원 게시판   \\n LoL 관련 팟벤 \\n \\n 탑 라인 [파티]   \\n LoL UCC \\n \\n LoL 유튜브 모아보기 팬아트/카툰 게시판 동영상 게시판   \\n LoL 파티 매칭 \\n \\n 파티 매칭 / 팀원 모집 └ 랭크 팀원 모집 └ 칼바람 팀원 모집 └ [격전] 팀원 모집   \\n \\n \\n \\n 공통 커뮤니티 \\n \\n 오픈 이슈 갤러리 오늘의 핫벤 오늘의 팟벤 AI 그림 그리기 PC 견적 게시판 코스프레 갤러리 (19)무인도는 첨이지? 게이밍 주변기기 지름/개봉 갤러리 게이머 토론장 게임 추천/소감 무엇이든 물어보세요 최근 논란중인 이야기 더보기   \\n 인기 팟벤 \\n \\n 팟벤 바로가기 AI 그림 ㄴAI 그림그리기(부에르) 애니메이션 걸그룹 보드게임 테일즈위버 천애명월도M 소울워커 운동 주식 이니빵 D2R 명품관 카스글옵   \\n \\n \\n \\n \\n \\n \\n \\n \\n \\n \\n \\n \\n \\n \\n LoL 챔피언 공략 게시판 \\n \\n \\n \\n \\n ALL \\n ㄱ \\n ㄴ \\n ㄷ \\n ㄹ \\n ㅁ \\n ㅂ \\n ㅅ \\n ㅇ \\n ㅈ \\n ㅊ \\n ㅋ \\n ㅌ \\n ㅍ \\n ㅎ \\n \\n \\n \\n \\n \\n \\n \\n 가렌 \\n \\n \\n \\n \\n \\n 갈리오 \\n \\n \\n \\n \\n \\n 갱플랭크 \\n \\n \\n \\n \\n \\n 그라가스 \\n \\n \\n \\n \\n \\n 그레이브즈 \\n \\n \\n \\n \\n \\n 그웬 \\n \\n \\n \\n \\n \\n 나르 \\n \\n \\n \\n \\n \\n 나미 \\n \\n \\n \\n \\n \\n 나서스 \\n \\n \\n \\n \\n \\n 나피리 \\n \\n \\n \\n \\n \\n 노틸러스 \\n \\n \\n \\n \\n \\n 녹턴 \\n \\n \\n \\n \\n \\n 누누와 윌럼프 \\n \\n \\n \\n \\n \\n 니달리 \\n \\n \\n \\n \\n \\n 니코 \\n \\n \\n \\n \\n \\n 닐라 \\n \\n \\n \\n \\n \\n 다리우스 \\n \\n \\n \\n \\n \\n 다이애나 \\n \\n \\n \\n \\n \\n 드레이븐 \\n \\n \\n \\n \\n \\n 라이즈 \\n \\n \\n \\n \\n \\n 라칸 \\n \\n \\n \\n \\n \\n 람머스 \\n \\n \\n \\n \\n \\n 럭스 \\n \\n \\n \\n \\n \\n 럼블 \\n \\n \\n \\n \\n \\n 레나타 글라스크 \\n \\n \\n \\n \\n \\n 레넥톤 \\n \\n \\n \\n \\n \\n 레오나 \\n \\n \\n \\n \\n \\n 렉사이 \\n \\n \\n \\n \\n \\n 렐 \\n \\n \\n \\n \\n \\n 렝가 \\n \\n \\n \\n \\n \\n 루시안 \\n \\n \\n \\n \\n \\n 룰루 \\n \\n \\n \\n \\n \\n 르블랑 \\n \\n \\n \\n \\n \\n 리 신 \\n \\n \\n \\n \\n \\n 리븐 \\n \\n \\n \\n \\n \\n 리산드라 \\n \\n \\n \\n \\n \\n 릴리아 \\n \\n \\n \\n \\n \\n 마스터 이 \\n \\n \\n \\n \\n \\n 마오카이 \\n \\n \\n \\n \\n \\n 말자하 \\n \\n \\n \\n \\n \\n 말파이트 \\n \\n \\n \\n \\n \\n 모데카이저 \\n \\n \\n \\n \\n \\n 모르가나 \\n \\n \\n \\n \\n \\n 문도 박사 \\n \\n \\n \\n \\n \\n 미스 포츈 \\n \\n \\n \\n \\n \\n 밀리오 \\n \\n \\n \\n \\n \\n 바드 \\n \\n \\n \\n \\n \\n 바루스 \\n \\n \\n \\n \\n \\n 바이 \\n \\n \\n \\n \\n \\n 베이가 \\n \\n \\n \\n \\n \\n 베인 \\n \\n \\n \\n \\n \\n 벡스 \\n \\n \\n \\n \\n \\n 벨베스 \\n \\n \\n \\n \\n \\n 벨코즈 \\n \\n \\n \\n \\n \\n 볼리베어 \\n \\n \\n \\n \\n \\n 브라움 \\n \\n \\n \\n \\n \\n 브라이어 \\n \\n \\n \\n \\n \\n 브랜드 \\n \\n \\n \\n \\n \\n 블라디미르 \\n \\n \\n \\n \\n \\n 블리츠크랭크 \\n \\n \\n \\n \\n \\n 비에고 \\n \\n \\n \\n \\n \\n 빅토르 \\n \\n \\n \\n \\n \\n 뽀삐 \\n \\n \\n \\n \\n \\n 사미라 \\n \\n \\n \\n \\n \\n 사이온 \\n \\n \\n \\n \\n \\n 사일러스 \\n \\n \\n \\n \\n \\n 샤코 \\n \\n \\n \\n \\n \\n 세나 \\n \\n \\n \\n \\n \\n 세라핀 \\n \\n \\n \\n \\n \\n 세주아니 \\n \\n \\n \\n \\n \\n 세트 \\n \\n \\n \\n \\n \\n 소나 \\n \\n \\n \\n \\n \\n 소라카 \\n \\n \\n \\n \\n \\n 쉔 \\n \\n \\n \\n \\n \\n 쉬바나 \\n \\n \\n \\n \\n \\n 스몰더 \\n \\n \\n \\n \\n \\n 스웨인 \\n \\n \\n \\n \\n \\n 스카너 \\n \\n \\n \\n \\n \\n 시비르 \\n \\n \\n \\n \\n \\n 신 짜오 \\n \\n \\n \\n \\n \\n 신드라 \\n \\n \\n \\n \\n \\n 신지드 \\n \\n \\n \\n \\n \\n 쓰레쉬 \\n \\n \\n \\n \\n \\n 아리 \\n \\n \\n \\n \\n \\n 아무무 \\n \\n \\n \\n \\n \\n 아우렐리온 솔 \\n \\n \\n \\n \\n \\n 아이번 \\n \\n \\n \\n \\n \\n 아지르 \\n \\n \\n \\n \\n \\n 아칼리 \\n \\n \\n \\n \\n \\n 아크샨 \\n \\n \\n \\n \\n \\n 아트록스 \\n \\n \\n \\n \\n \\n 아펠리오스 \\n \\n \\n \\n \\n \\n 알리스타 \\n \\n \\n \\n \\n \\n 암베사 \\n \\n \\n \\n \\n \\n 애니 \\n \\n \\n \\n \\n \\n 애니비아 \\n \\n \\n \\n \\n \\n 애쉬 \\n \\n \\n \\n \\n \\n 야스오 \\n \\n \\n \\n \\n \\n 에코 \\n \\n \\n \\n \\n \\n 엘리스 \\n \\n \\n \\n \\n \\n 오공 \\n \\n \\n \\n \\n \\n 오로라 \\n \\n \\n \\n \\n \\n 오른 \\n \\n \\n \\n \\n \\n 오리아나 \\n \\n \\n \\n \\n \\n 올라프 \\n \\n \\n \\n \\n \\n 요네 \\n \\n \\n \\n \\n \\n 요릭 \\n \\n \\n \\n \\n \\n 우디르 \\n \\n \\n \\n \\n \\n 우르곳 \\n \\n \\n \\n \\n \\n 워윅 \\n \\n \\n \\n \\n \\n 유미 \\n \\n \\n \\n \\n \\n 이렐리아 \\n \\n \\n \\n \\n \\n 이블린 \\n \\n \\n \\n \\n \\n 이즈리얼 \\n \\n \\n \\n \\n \\n 일라오이 \\n \\n \\n \\n \\n \\n 자르반 4세 \\n \\n \\n \\n \\n \\n 자야 \\n \\n \\n \\n \\n \\n 자이라 \\n \\n \\n \\n \\n \\n 자크 \\n \\n \\n \\n \\n \\n 잔나 \\n \\n \\n \\n \\n \\n 잭스 \\n \\n \\n \\n \\n \\n 제드 \\n \\n \\n \\n \\n \\n 제라스 \\n \\n \\n \\n \\n \\n 제리 \\n \\n \\n \\n \\n \\n 제이스 \\n \\n \\n \\n \\n \\n 조이 \\n \\n \\n \\n \\n \\n 직스 \\n \\n \\n \\n \\n \\n 진 \\n \\n \\n \\n \\n \\n 질리언 \\n \\n \\n \\n \\n \\n 징크스 \\n \\n \\n \\n \\n \\n 초가스 \\n \\n \\n \\n \\n \\n 카르마 \\n \\n \\n \\n \\n \\n 카밀 \\n \\n \\n \\n \\n \\n 카사딘 \\n \\n \\n \\n \\n \\n 카서스 \\n \\n \\n \\n \\n \\n 카시오페아 \\n \\n \\n \\n \\n \\n 카이사 \\n \\n \\n \\n \\n \\n 카직스 \\n \\n \\n \\n \\n \\n 카타리나 \\n \\n \\n \\n \\n \\n 칼리스타 \\n \\n \\n \\n \\n \\n 케넨 \\n \\n \\n \\n \\n \\n 케이틀린 \\n \\n \\n \\n \\n \\n 케인 \\n \\n \\n \\n \\n \\n 케일 \\n \\n \\n \\n \\n \\n 코그모 \\n \\n \\n \\n \\n \\n 코르키 \\n \\n \\n \\n \\n \\n 퀸 \\n \\n \\n \\n \\n \\n 크산테 \\n \\n \\n \\n \\n \\n 클레드 \\n \\n \\n \\n \\n \\n 키아나 \\n \\n \\n \\n \\n \\n 킨드레드 \\n \\n \\n \\n \\n \\n 타릭 \\n \\n \\n \\n \\n \\n 탈론 \\n \\n \\n \\n \\n \\n 탈리야 \\n \\n \\n \\n \\n \\n 탐 켄치 \\n \\n \\n \\n \\n \\n 트런들 \\n \\n \\n \\n \\n \\n 트리스타나 \\n \\n \\n \\n \\n \\n 트린다미어 \\n \\n \\n \\n \\n \\n 트위스티드 페이트 \\n \\n \\n \\n \\n \\n 트위치 \\n \\n \\n \\n \\n \\n 티모 \\n \\n \\n \\n \\n \\n 파이크 \\n \\n \\n \\n \\n \\n 판테온 \\n \\n \\n \\n \\n \\n 피들스틱 \\n \\n \\n \\n \\n \\n 피오라 \\n \\n \\n \\n \\n \\n 피즈 \\n \\n \\n \\n \\n \\n 하이머딩거 \\n \\n \\n \\n \\n \\n 헤카림 \\n \\n \\n \\n \\n \\n 흐웨이 \\n \\n \\n \\n \\n \\n \\n \\n 최근  평가 된 공략 \\n \\n \\n 미드 카서스 [평가:1] \\n 힐 집중 강화 니달리 서폿 공략(업데이트) [평가:1] \\n SeasonⅤ Ezreal - The Prodigal Explorer [평가:45] \\n 앙? [평가:1] \\n 브라이어 [평가:4] \\n \\n \\n \\n \\n 주목할 만한  공략 [?] \\n \\n \\n 35살 아재도 다1 가는 갱플 공략법 [27] \\n [D3] 탑 피오라 공략(2021년 10월 24일 수정) [13] \\n [시즌11] 잭스 가이드 [21] \\n GM1그랜드마스터 BJ영만  카타리나공략(간단) [3] \\n 장인이 되는 길 [9] \\n \\n \\n \\n \\n \\n \\n \\n \\n \\n \\n \\n \\n 모든 공략 보기 \\n 주목글   내가 올린 글 검색 \\n \\n \\n \\n \\n 제목 \\n 작성자 \\n \\n \\n \\n \\n \\n 글쓰기 \\n \\n \\n \\n \\n \\n \\n \\n \\n \\n \\n \\n \\n  <col class = \"mode\"></col>  \\n \\n \\n \\n \\n \\n \\n \\n \\n \\n  <th><a href=\"javascript:void(0)\" onClick=\"selectGameMode();\">모드<img src=\"//static.inven.co.kr/image_2011/lol/common/icon_arrow_blue_2.png\"></a>\\n<div id=\"selectMode\">\\n<ul>\\n<li><a href=\"https://lol.inven.co.kr/dataninfo/champion/manualTool.php?confirm=2&amp;category=1\">5vs5</a></li>\\n<li><a href=\"https://lol.inven.co.kr/dataninfo/champion/manualTool.php?confirm=2&amp;category=2\">3vs3</a></li>\\n<li><a href=\"https://lol.inven.co.kr/dataninfo/champion/manualTool.php?confirm=2&amp;category=3\">도미니언</a></li>\\n</ul>\\n</div>\\n</th>\\n  \\n 챔피언 \\n 시즌 \\n \\n \\n 시즌14 \\n 시즌13 \\n \\n \\n \\n 제목 \\n 작성자 \\n 갱신 \\n 조회 \\n 평가 \\n \\n \\n  <td class = \"mode\"><img src=\\'//static.inven.co.kr/image_2011/lol/fonticon/icon_gametype_category_1.png\\'></td>  \\n \\n [시즌14]   \\n [GM]AP 샤코 서폿 설명 길게 안함 [2] \\n   Fkffhfan \\n 09-22 \\n 95040 \\n - \\n \\n \\n  <td class = \"mode\"><img src=\\'//static.inven.co.kr/image_2011/lol/fonticon/icon_gametype_category_1.png\\'></td>  \\n \\n [시즌14]   \\n ★(마스터) 시즌 완벽 적응 개사기 .. [6] \\n   모래놀이 \\n 07-26 \\n 293415 \\n 평가중 ( 2 ) \\n \\n \\n  <td class = \"mode\"><img src=\\'//static.inven.co.kr/image_2011/lol/fonticon/icon_gametype_category_1.png\\'></td>  \\n \\n [시즌14]   \\n [GM1]프로 1군원딜들 피셜 근본 원딜.. \\n   나워의길 \\n 03-16 \\n 173029 \\n - \\n \\n \\n  <td class = \"mode\"><img src=\\'//static.inven.co.kr/image_2011/lol/fonticon/icon_gametype_category_1.png\\'></td>  \\n \\n [시즌14]   \\n M)시즌 5부터 딩거 한 유저의 공략 [1] \\n   짜증유튜브 \\n 02-05 \\n 83181 \\n - \\n \\n \\n  <td class = \"mode\"><img src=\\'//static.inven.co.kr/image_2011/lol/fonticon/icon_gametype_category_1.png\\'></td>  \\n \\n [시즌13]   \\n \\'장인초대석 2회 출연 및 가렌 평점.. [3] \\n   진짜가렌 \\n 01-09 \\n 49544 \\n 6 /6 \\n \\n \\n  <td class = \"mode\"><img src=\\'//static.inven.co.kr/image_2011/lol/fonticon/icon_gametype_category_1.png\\'></td>  \\n \\n [시즌13]   \\n [M1] 30대중반도 마스터가는잭스공략 [26] \\n   곰지야 \\n 01-07 \\n 67199 \\n 4 /6 \\n \\n \\n  <td class = \"mode\"><img src=\\'//static.inven.co.kr/image_2011/lol/fonticon/icon_gametype_category_1.png\\'></td>  \\n \\n [시즌13]   \\n M300) 트페 공략 \\n   꿍덕꿍 \\n 12-30 \\n 36544 \\n - \\n \\n \\n  <td class = \"mode\"><img src=\\'//static.inven.co.kr/image_2011/lol/fonticon/icon_gametype_category_1.png\\'></td>  \\n \\n [시즌13]   \\n M1 ) 시즌말에 쓰는 트린다미어 공략 \\n   고기분쇄기 \\n 10-21 \\n 32738 \\n - \\n \\n \\n  <td class = \"mode\"><img src=\\'//static.inven.co.kr/image_2011/lol/fonticon/icon_gametype_category_1.png\\'></td>  \\n \\n [시즌13]   \\n 케이틀린 [9] \\n   달인케이틀린 \\n 10-06 \\n 123312 \\n 4 /5 \\n \\n \\n  <td class = \"mode\"><img src=\\'//static.inven.co.kr/image_2011/lol/fonticon/icon_gametype_category_1.png\\'></td>  \\n \\n [시즌13]   \\n 선제공격 (원형낫 카직스) [11] \\n   히든카직스 \\n 06-27 \\n 144012 \\n 6 /7 \\n \\n \\n  <td class = \"mode\"><img src=\\'//static.inven.co.kr/image_2011/lol/fonticon/icon_gametype_category_1.png\\'></td>  \\n \\n [시즌13]   \\n C1)술통 살인사건 미드 그라가스 완.. [4] \\n   Humanoid1 \\n 05-25 \\n 77784 \\n 평가중 ( 4 ) \\n \\n \\n  <td class = \"mode\"><img src=\\'//static.inven.co.kr/image_2011/lol/fonticon/icon_gametype_category_1.png\\'></td>  \\n \\n [시즌13]   \\n [M1] 초보자를 위한 라칸 공략글 \\n   Diov \\n 05-15 \\n 21792 \\n 평가중 ( 1 ) \\n \\n \\n  <td class = \"mode\"><img src=\\'//static.inven.co.kr/image_2011/lol/fonticon/icon_gametype_category_1.png\\'></td>  \\n \\n [시즌13]   \\n [M1] 간단하게 보는 카타리나 공략 [4] \\n   용타는모데 \\n 04-23 \\n 24290 \\n - \\n \\n \\n  <td class = \"mode\"><img src=\\'//static.inven.co.kr/image_2011/lol/fonticon/icon_gametype_category_1.png\\'></td>  \\n \\n [시즌13]   \\n [M1] 이보다 더 완벽한 잔나 공략은.. [26] \\n   도음 \\n 04-13 \\n 83423 \\n 9 /12 \\n \\n \\n  <td class = \"mode\"><img src=\\'//static.inven.co.kr/image_2011/lol/fonticon/icon_gametype_category_1.png\\'></td>  \\n \\n [시즌13]   \\n [롤][D3] 오른장인이 알려주는 탑 오.. \\n   그랩장인서폿 \\n 04-12 \\n 26198 \\n 평가중 ( 2 ) \\n \\n \\n  <td class = \"mode\"><img src=\\'//static.inven.co.kr/image_2011/lol/fonticon/icon_gametype_category_1.png\\'></td>  \\n \\n [시즌13]   \\n GM 나서스 원챔 [10] \\n   탑수카넝 \\n 03-31 \\n 29548 \\n 평가중 ( 1 ) \\n \\n \\n  <td class = \"mode\"><img src=\\'//static.inven.co.kr/image_2011/lol/fonticon/icon_gametype_category_1.png\\'></td>  \\n \\n [시즌13]   \\n [M1]◉ 시즌13루나미카운터 시야점수.. [2] \\n   차마노 \\n 02-06 \\n 27525 \\n 평가중 ( 2 ) \\n \\n \\n  <td class = \"mode\"><img src=\\'//static.inven.co.kr/image_2011/lol/fonticon/icon_gametype_category_1.png\\'></td>  \\n \\n [시즌13]   \\n 시즌13 11/23 프리시즌진행중  모데.. [3] \\n   라인틀딱 \\n 11-28 \\n 157318 \\n 평가중 ( 3 ) \\n \\n \\n  <td class = \"mode\"><img src=\\'//static.inven.co.kr/image_2011/lol/fonticon/icon_gametype_category_1.png\\'></td>  \\n \\n [시즌12]   \\n M1) 디나이 장인 7년산 TOP 다리우스.. [3] \\n   폭풍다리 \\n 10-12 \\n 39612 \\n - \\n \\n \\n  <td class = \"mode\"><img src=\\'//static.inven.co.kr/image_2011/lol/fonticon/icon_gametype_category_1.png\\'></td>  \\n \\n [시즌12]   \\n 시즌 12) 마스터 아트록스 공략 \\n   Aoxx \\n 10-10 \\n 27422 \\n - \\n \\n \\n  <td class = \"mode\"><img src=\\'//static.inven.co.kr/image_2011/lol/fonticon/icon_gametype_category_1.png\\'></td>  \\n \\n [시즌12]   \\n [D4] 유체화 여진 쉔, 피지컬 안좋은.. \\n   미드트린해 \\n 10-05 \\n 30271 \\n 평가중 ( 3 ) \\n \\n \\n  <td class = \"mode\"><img src=\\'//static.inven.co.kr/image_2011/lol/fonticon/icon_gametype_category_1.png\\'></td>  \\n \\n [시즌12]   \\n [M1 르블랑 1위] ♨ 최강의 딜포터 .. \\n   블나방 \\n 10-03 \\n 21453 \\n 평가중 ( 1 ) \\n \\n \\n  <td class = \"mode\"><img src=\\'//static.inven.co.kr/image_2011/lol/fonticon/icon_gametype_category_1.png\\'></td>  \\n \\n [시즌12]   \\n 챌린저 마오카이 서폿 장인 랭킹 1위.. \\n   매루파워 \\n 09-11 \\n 24224 \\n 평가중 ( 4 ) \\n \\n \\n  <td class = \"mode\"><img src=\\'//static.inven.co.kr/image_2011/lol/fonticon/icon_gametype_category_1.png\\'></td>  \\n \\n [시즌12]   \\n [LOL 시즌12] \"당신이 원하였던 바로.. \\n   마시고죽어봐 \\n 08-03 \\n 20758 \\n 평가중 ( 4 ) \\n \\n \\n  <td class = \"mode\"><img src=\\'//static.inven.co.kr/image_2011/lol/fonticon/icon_gametype_category_1.png\\'></td>  \\n \\n [시즌12]   \\n D3) 애쉬만큼 사기챔피언은 없습니다.. [3] \\n   오늘집못보내 \\n 06-27 \\n 36741 \\n - \\n \\n \\n  <td class = \"mode\"><img src=\\'//static.inven.co.kr/image_2011/lol/fonticon/icon_gametype_category_1.png\\'></td>  \\n \\n [시즌12]   \\n 다1)쉽지만 가장 냉정해야하는 챔프.. [1] \\n   백태자 \\n 06-24 \\n 19309 \\n - \\n \\n \\n  <td class = \"mode\"><img src=\\'//static.inven.co.kr/image_2011/lol/fonticon/icon_gametype_category_1.png\\'></td>  \\n \\n [시즌12]   \\n [top] 나서스 12.11 [11] \\n   Killbeloss \\n 06-11 \\n 154943 \\n 평가중 ( 4 ) \\n \\n \\n  <td class = \"mode\"><img src=\\'//static.inven.co.kr/image_2011/lol/fonticon/icon_gametype_category_1.png\\'></td>  \\n \\n [시즌12]   \\n GM1) 3연속 너프 짜오공략 \\n   운짜장 \\n 05-22 \\n 39390 \\n 평가중 ( 1 ) \\n \\n \\n  <td class = \"mode\"><img src=\\'//static.inven.co.kr/image_2011/lol/fonticon/icon_gametype_category_1.png\\'></td>  \\n \\n [시즌12]   \\n [D1] 리워크 서폿 소나 [29] \\n   프아 \\n 03-25 \\n 142943 \\n 10 /11 \\n \\n \\n  <td class = \"mode\"><img src=\\'//static.inven.co.kr/image_2011/lol/fonticon/icon_gametype_category_1.png\\'></td>  \\n \\n [시즌12]   \\n [M1] 시즌12 리븐 공략 \\n   Resive \\n 03-07 \\n 27870 \\n 평가중 ( 2 ) \\n \\n \\n  <td class = \"mode\"><img src=\\'//static.inven.co.kr/image_2011/lol/fonticon/icon_gametype_category_1.png\\'></td>  \\n \\n [시즌12]   \\n M) 메타가 변했다 선체안쓰는 우르곳.. \\n   우르곳감 \\n 02-23 \\n 21327 \\n - \\n \\n \\n  <td class = \"mode\"><img src=\\'//static.inven.co.kr/image_2011/lol/fonticon/icon_gametype_category_1.png\\'></td>  \\n \\n [시즌12]   \\n 연습만 하면 티어 수직상승! 심해 1.. [35] \\n   제라스성애자 \\n 02-15 \\n 166940 \\n 8 /13 \\n \\n \\n  <td class = \"mode\"><img src=\\'//static.inven.co.kr/image_2011/lol/fonticon/icon_gametype_category_1.png\\'></td>  \\n \\n [시즌12]   \\n C1) 그라가스할래요 탑 그라가스 공.. [2] \\n   룬니 \\n 01-05 \\n 31948 \\n 4 /5 \\n \\n \\n  <td class = \"mode\"><img src=\\'//static.inven.co.kr/image_2011/lol/fonticon/icon_gametype_category_1.png\\'></td>  \\n \\n [시즌12]   \\n M1)시즌11 탑 탐켄치 장인1등의 탐켄.. [2] \\n   라하랒 \\n 12-07 \\n 29305 \\n 평가중 ( 2 ) \\n \\n \\n  <td class = \"mode\"><img src=\\'//static.inven.co.kr/image_2011/lol/fonticon/icon_gametype_category_1.png\\'></td>  \\n \\n [시즌11]   \\n 35살 아재도 다1 가는 갱플 공략법 [27] \\n   마법지팡이 \\n 11-02 \\n 158685 \\n 8 /9 \\n \\n \\n  <td class = \"mode\"><img src=\\'//static.inven.co.kr/image_2011/lol/fonticon/icon_gametype_category_1.png\\'></td>  \\n \\n [시즌11]   \\n [D3] 탑 피오라 공략(2021년 10월 2.. [13] \\n   Bjg9656 \\n 10-24 \\n 146531 \\n 평가중 ( 3 ) \\n \\n \\n  <td class = \"mode\"><img src=\\'//static.inven.co.kr/image_2011/lol/fonticon/icon_gametype_category_1.png\\'></td>  \\n \\n [시즌11]   \\n [시즌11] 잭스 가이드 [21] \\n   백와가족 \\n 10-10 \\n 101102 \\n 6 /6 \\n \\n \\n  <td class = \"mode\"><img src=\\'//static.inven.co.kr/image_2011/lol/fonticon/icon_gametype_category_1.png\\'></td>  \\n \\n [시즌11]   \\n GM1그랜드마스터 BJ영만  카타리나공.. [3] \\n   리그오브영만 \\n 09-27 \\n 68078 \\n 평가중 ( 4 ) \\n \\n \\n  <td class = \"mode\"><img src=\\'//static.inven.co.kr/image_2011/lol/fonticon/icon_gametype_category_1.png\\'></td>  \\n \\n [시즌11]   \\n 장인이 되는 길 [9] \\n   여리여리열 \\n 09-18 \\n 117789 \\n 6 /6 \\n \\n \\n  <td class = \"mode\"><img src=\\'//static.inven.co.kr/image_2011/lol/fonticon/icon_gametype_category_1.png\\'></td>  \\n \\n [시즌11]   \\n (영상 有)시즌 11 탑 쉔의 완벽한 룬.. [9] \\n   T1shen \\n 09-15 \\n 78266 \\n - \\n \\n \\n  <td class = \"mode\"><img src=\\'//static.inven.co.kr/image_2011/lol/fonticon/icon_gametype_category_1.png\\'></td>  \\n \\n [시즌11]   \\n GM1 바루스장인의 다양한 빌드[영상.. [77] \\n   안녕생선 \\n 09-12 \\n 161357 \\n 7 /9 \\n \\n \\n  <td class = \"mode\"><img src=\\'//static.inven.co.kr/image_2011/lol/fonticon/icon_gametype_category_1.png\\'></td>  \\n \\n [시즌11]   \\n [한중장인대전] GM1 275 미독아지르 [8] \\n   유리대포 \\n 08-31 \\n 58937 \\n 평가중 ( 3 ) \\n \\n \\n  <td class = \"mode\"><img src=\\'//static.inven.co.kr/image_2011/lol/fonticon/icon_gametype_category_1.png\\'></td>  \\n \\n [시즌11]   \\n 미드 초가스 가이드(모든 챔피언 상.. [1] \\n   마스터i \\n 08-07 \\n 61871 \\n 평가중 ( 3 ) \\n \\n \\n  <td class = \"mode\"><img src=\\'//static.inven.co.kr/image_2011/lol/fonticon/icon_gametype_category_1.png\\'></td>  \\n \\n [시즌11]   \\n M1 마오카이 서폿 탱/AP 공략 [2] \\n   북미서폿우재 \\n 08-03 \\n 80307 \\n 평가중 ( 1 ) \\n \\n \\n  <td class = \"mode\"><img src=\\'//static.inven.co.kr/image_2011/lol/fonticon/icon_gametype_category_1.png\\'></td>  \\n \\n [시즌11]   \\n D3) [11시즌] 꿀챔 찾으시나요? [4] \\n   Qnffn23 \\n 07-30 \\n 64362 \\n - \\n \\n \\n  <td class = \"mode\"><img src=\\'//static.inven.co.kr/image_2011/lol/fonticon/icon_gametype_category_1.png\\'></td>  \\n \\n [시즌11]   \\n [GM] 점화텔 렝가 완벽하게 분석해드.. [6] \\n   몽커 \\n 07-21 \\n 55028 \\n 평가중 ( 3 ) \\n \\n \\n  <td class = \"mode\"><img src=\\'//static.inven.co.kr/image_2011/lol/fonticon/icon_gametype_category_1.png\\'></td>  \\n \\n [시즌11]   \\n M1 ) 고분기의 트붕이 교보재 (feat.. [10] \\n   고기분쇄기 \\n 07-18 \\n 59160 \\n 평가중 ( 2 ) \\n \\n \\n  <td class = \"mode\"><img src=\\'//static.inven.co.kr/image_2011/lol/fonticon/icon_gametype_category_1.png\\'></td>  \\n \\n [시즌11]   \\n [M1]소라카&유미1위 서예지의 소라카.. [16] \\n   핏책 \\n 06-06 \\n 61952 \\n 5 /5 \\n \\n \\n  <td class = \"mode\"><img src=\\'//static.inven.co.kr/image_2011/lol/fonticon/icon_gametype_category_1.png\\'></td>  \\n \\n [시즌11]   \\n [정글] 11.11 정글 포지션 사망 [11] \\n   Yammer \\n 05-24 \\n 83421 \\n 4 /6 \\n \\n \\n  <td class = \"mode\"><img src=\\'//static.inven.co.kr/image_2011/lol/fonticon/icon_gametype_category_1.png\\'></td>  \\n \\n [시즌11]   \\n [시즌11] 미드 애니(Annie) [16] \\n   티불장 \\n 05-19 \\n 51782 \\n 평가중 ( 4 ) \\n \\n \\n \\n \\n \\n \\n \\n 이전   1    |    2    |    3    |    4    |    5    |    6    |    7    |    8    |    9    |    10    |  ...  |  328   다음   \\n \\n \\n \\n 모든 공략 보기 \\n 주목글   내가 올린 글 검색 \\n \\n \\n \\n \\n 제목 \\n 작성자 \\n \\n \\n \\n \\n 글쓰기 \\n \\n \\n  <a href=\"https://www.inven.co.kr/board/powerbbs.php?come_idx=2653&l=5353462\"><img src=\"//static.inven.co.kr/image_2011/lol/banner/banner_710x151_2.jpg\" style=\"margin-top:20px;\"></a>  \\n \\n \\n \\n \\n \\n   \\n    .commu-content  \\n \\n a1ad rectangle area \\n \\n \\n \\n \\n \\n end a1ad rectangle area \\n \\n \\n \\n \\n \\n \\n \\n \\n \\n \\n \\n \\n 오늘의 팟벤 \\n 오늘의 핫벤 \\n \\n \\n \\n \\n \\n \\n \\n 여행 \\n 기차 여행은 언제나 \\n \\n \\n \\n \\n \\n \\n 차벤 \\n DCT 차 타는 사람들 시내에서 어캐 주행함??? \\n \\n \\n \\n \\n \\n \\n 치어리더 \\n 엑셀 방송 그 춤 대만 진출 ㄷㄷㄷ \\n \\n \\n \\n \\n \\n \\n POE2 \\n 12월7일 오픈때 \\n \\n \\n \\n \\n \\n \\n 치어리더 \\n 다헤찡 Whiplash 챌린지 + 인별 근황 \\n \\n \\n \\n \\n \\n \\n 바클 \\n 전사 90 경팔 뭐가맞음? \\n \\n \\n \\n \\n \\n \\n 가가브 \\n 설마했던 알토스, 스텔라 동시 픽업 - 영웅전설: 가가브트릴로지 \\n \\n \\n \\n \\n \\n \\n 바클 \\n [바람의나라 클래식] 11/22(금) 바람의나라 클래식 업데이트 점검 안내 (오전 8시 40분 ~ 오전 9시) \\n \\n \\n \\n \\n \\n \\n 종합스팀 \\n IQ게임 Q REMASTERED 후기 \\n \\n \\n \\n \\n \\n \\n 차벤 \\n 어떻게 신고해야 상품권 높게 준다는 교차로 우회전 블박글 런엔딩이에요? \\n \\n \\n \\n \\n \\n \\n 치어리더 \\n 헐 단발좌 안지현 ㄷㄷㄷㄷㄷ \\n \\n \\n \\n \\n \\n \\n 여행 \\n 주말 대전 기차여행 \\n \\n \\n \\n \\n \\n \\n 차벤 \\n 역대급 돌i 제네시스 전손처리 OTL \\n \\n \\n \\n \\n \\n \\n 치어리더 \\n 김도아 치어리더.mp4 \\n \\n \\n \\n \\n \\n \\n 가가브 \\n 이번 신규 캐릭터는 티라스일 소속 마딜러 스텔라 - 영웅전설: 가가브 트릴로지 \\n \\n \\n \\n \\n \\n \\n \\n 새로고침 \\n \\n \\n \\n \\n \\n \\n \\n \\n 1 \\n LoL \\n 제우스 인스타글에 구마유시 답변 ㅋㅋㅋㅋ \\n \\n \\n \\n \\n \\n \\n 2 \\n LoL \\n 도란 인스타글에 구마유시 답변 ㅋㅋㅋㅋㅋㅋㅋㅋㅋㅋㅋㅋ \\n \\n \\n \\n \\n \\n \\n 3 \\n LoL \\n 앰비션 사과 취소 영상 \\n \\n \\n \\n \\n \\n \\n 4 \\n 디아4 \\n 속보]  새로운 버그 탄생 향독의 비약 피통 뻥튀기 \\n \\n \\n \\n \\n \\n \\n 5 \\n LoL \\n 제우스 인스타로 인사 남김. \\n \\n \\n \\n \\n \\n \\n 6 \\n LoL \\n 오피셜) 제우스 1+1년 선수옵션 계약 \\n \\n \\n \\n \\n \\n \\n 7 \\n 와우 \\n 와우 혼자 싱글게임처럼 할거면 뭐할라고 함? \\n \\n \\n \\n \\n \\n \\n 8 \\n LoL \\n 도란 인스타 \\n \\n \\n \\n \\n \\n \\n 9 \\n LoL \\n 제우스는 에이전트 장난질에 이미지 나락간듯 \\n \\n \\n \\n \\n \\n \\n 10 \\n LoL \\n 엠비션 페이즈 건으로 사과안한댄다 \\n \\n \\n \\n \\n \\n \\n 11 \\n LoL \\n 펌) 자고 일어난 티원팬을 위한 제우스 사가 정리.text \\n \\n \\n \\n \\n \\n \\n 12 \\n LoL \\n 한화때 도란 방송 \\n \\n \\n \\n \\n \\n \\n 13 \\n LoL \\n 오피셜)선수 1+1 \\n \\n \\n \\n \\n \\n \\n 14 \\n LoL \\n 1+1보니까 왜 T1프런트가 빡쳤는지 알겠네 \\n \\n \\n \\n \\n \\n \\n 15 \\n 와우 \\n 40일만에 드디어 앞치마 겟 \\n \\n \\n \\n \\n \\n 더보기+ \\n \\n \\n \\n \\n \\n \\n 핫딜  게시판 더보기+ \\n \\n 디트로이트 비컴 휴먼 (-70%, 역대 최저가) \\n 행운샴푸 500ML 1+1 \\n 갓성비 모니터? 리오나인 UWQHD 와이드 게이밍 모니터, 86cm, X34Q-V2 \\n 강원도 감자옹심이 1,050g (7인분) 외 감자칼국수 감자수제비 \\n 덴트릭스 소닉펄스 컨트롤샷 + 노즐 2개 \\n \\n \\n \\n \\n \\n 최근 HOT한 콘텐츠 \\n \\n LoL \\n 게임 \\n IT \\n 유머 \\n 연예 \\n \\n \\n \\n 1 T1, \\'제우스\\' 떠나고 \\'도란\\' 왔다 \\n 2 T1 떠난 \\'제우스\\' 최우제, \"갑작스러운 이별, 너무 죄송하다\" \\n 3 한화생명e스포츠, 탑 라이너 \\'제우스\\' 최우제 영입 \\n 4 Welcome home, Ruler! \\'룰러\\' 박재혁, 젠지 e스포츠로 복귀 \\n 5 T1, 서포터 \\'케리아\\' 류민석과 2년 재계약 \\n 6 디플러스 기아, 서포터\\' 모함\\' 정재훈과 계약 종료 \\n 7 광동 프릭스, \\'표식-버서커-라이프\\' 영입 \\n 8 T1, 정글러 \\'오너\\' 문현준과 2년 재계약 \\n 9 근황 전한 T1 \\'페이커\\', \"5회 우승 비결? 가장 중요한 건 \\'열정\\'\" \\n 10 디플러스 기아, \\'베릴\\' 조건희 복귀로 5인 로스터 확정 \\n \\n \\n 1 T1, \\'제우스\\' 떠나고 \\'도란\\' 왔다 \\n 2 엔씨소프트 TL, 10월 북미∙유럽 PS 최다 다운로드 \\n 3 WOW \\'언더마인\\', 10배 빠른 탈것이 기다린다 \\n 4 초창기 밸런스 그대로, \\'오버워치 클래식\\' 관심↑ \\n 5 엔씨소프트 \\'저니 오브 모나크\\' 12월 4일 출시 \\n 6 12월 7일, \\'패스 오브 엑자일2\\'가 온다 \\n 7 후보 공개 \\'TGA2024\\'... 스텔라 블레이드 2부문 노미 \\n 8 여말선초, 풀 3D 그래픽으로 돌아온 \\'조선협객전2M\\' \\n 9 텐센트-스퀘어에닉스, 파이널판타지14 모바일 제작한다 \\n 10 원작 완결 앞둔 열혈강호 온라인 \"완결 이후도 걱정없다\" \\n \\n \\n 1 삼성전자, 지스타 2024서 오디세이 모니터 체험존 \\'All Ready. OLED\\' 운영 \\n 2 신입생과 직장인의 스마트한 선택, \\'MSI 모던 비즈니스 노트북\\' 출시 \\n 3 MSI, 고성능 노트북 구매자 대상 \\'인디아나 존스: 그레이트 서클\\' 코드 증정 \\n 4 MSI, 자사 부품 구매자에 최대 7만 원 스팀 코드 증정 이벤트 진행 중 \\n 5 다양한 즐길거리에 푸짐한 경품까지! 지스타 2024 인벤 부스 \\n 6 \\'인벤 플레이라운지\\'에서 삼성 모니터를 만나자 \\n 7 인벤 부스에서 경험하는 레노버 게이밍 에코 시스템 \\n 8 스틸시리즈, 하이브IM & 펄어비스 파트너사로  ‘지스타 2024’ 참가 \\n 9 에이수스, ‘지스타 2024’에서 ‘SOOP’과 ‘넷마블’과 협업 \\n 10 유병재와 옵치 한 판? 인벤 플레이라운지에서! \\n \\n \\n 1 ㅎㅂ)노쇼금지 \\n 2 회사 대표의 제갈량급 책략 \\n 3 ㅁㅊ ㅋㅋㅋㅋ(동덕) \\n 4 산사람을 해코지한 귀신 \\n 5 한달동안 여친 몰래 몰카 찍은 남자;;; \\n 6 오늘자 드래곤볼 근황.jpg \\n 7 9800x3d 용팔이 프리미엄 근황 \\n 8 아리가또? \\n 9 이재용 기준 물가 체험하기 \\n 10 귤 5kg를 샀는데 4.5kg만 온 이유 \\n \\n \\n 1 임영웅 콘서트 티케팅 후기 ㅠㅠ \\n 2 최근 다시 재조명되는 영화 \\n 3 김채원 \\n 4 환생기념 노윤서 짤 \\n 5 귀여운 털모자 김채원 \\n 6 이희은 인스타 \\n 7 ITZY 예지 \\n 8 부산에서 장원영 \\n 9 배우 한보름 인스타 \\n 10 스테이씨 아이사 \\n \\n \\n \\n \\n \\n \\n \\n \\n \\n IT인벤이 제안하는 \\n 11월 조립PC 추천 견적 \\n \\n \\n \\n \\n \\n \\n \\n 매일매일, \\n 인벤 출석체크! \\n \\n \\n \\n \\n \\n \\n \\n 주사위 굴리고 포인트! \\n 인벤 마블 \\n \\n \\n \\n \\n \\n \\n \\n 인챈트 \\n 2024 하반기 각 부문 채용 \\n \\n \\n \\n \\n \\n LoL 인벤 화제글 \\n \\n e스포츠 \\n 정보&소식 \\n \\n \\n \\n 1 제우스 인스타글에 구마유시 답변 ㅋㅋㅋㅋ \\n 2 도란 인스타글에 구마유시 답변 ㅋㅋㅋㅋㅋㅋㅋㅋㅋㅋㅋㅋ \\n 3 앰비션 사과 취소 영상 \\n 4 제우스 인스타로 인사 남김. \\n 5 오피셜) 제우스 1+1년 선수옵션 계약 \\n 6 도란 인스타 \\n 7 제우스는 에이전트 장난질에 이미지 나락간듯 \\n 8 한화때 도란 방송 \\n 9 엠비션 페이즈 건으로 사과안한댄다 \\n 10 펌) 자고 일어난 티원팬을 위한 제우스 사가 정리.text \\n \\n \\n 1 KT Museong 재계약 \\n 2 파랑 정수 상점 오픈 \\n 3 프로토타입 빅토르(520rp) 판매중 \\n 4 GEN Chovy, Ruler 3년 계약 \\n 5 젠지 ) 기인 캐니언 쵸비 룰러 듀로 \\n 6 KT deokdam 합류 \\n 7 HLE Zeus 합류 \\n 8 \"7년의 실패가 모여 지금의 전성기 만들어\" \\n 9 BRO Clozer 합류 \\n 10 FOX Diable 콜업 \\n \\n \\n \\n \\n \\n LoL LIVE 방송  \\n \\n \\n \\n 앰비션 \\n \\n \\n \\n \\n \\n LIVE   Corejj  \\n \\n \\n LIVE   크캣  \\n \\n \\n OFF   Pray  \\n \\n \\n OFF   Gorilla  \\n \\n \\n OFF   BDD  \\n \\n \\n \\n 새로고침 \\n 더보기 \\n \\n \\n \\n \\n \\n  /83673359,88413811/RS_inven_rightmiddle_250_250  \\n \\n \\n \\n \\n \\n \\n 인벤 사전예약  더보기+ \\n \\n \\n \\n \\n \\n \\n 소녀전선2: 망명 \\n 인벤 회원에게는 1000 이니, 100 베니 지급! \\n \\n \\n \\n \\n \\n \\n \\n 테일즈런너RPG \\n 인벤 회원에게는 1000 이니, 100 베니 지급! \\n \\n \\n \\n \\n \\n \\n \\n 조선협객전2M \\n 인벤 회원에게는 1000 이니, 100 베니 지급! \\n \\n \\n \\n \\n \\n 브랜드 파트너 이벤트 \\n \\n \\n \\n \\n \\n \\n \\n \\n \\n \\n \\n \\n \\n 추천 코스프레 갤러리 \\n \\n 명조: 워더링 웨이브 에이크라운-넬리 금희 \\n \\n \\n \\n \\n \\n \\n \\n \\n      .commu-wrap  \\n \\n \\n 인포메이션 \\n \\n \\n 회사소개 \\n 비즈니스 \\n 이용약관 \\n 개인정보처리방침 \\n 청소년보호정책 \\n 찾아오시는 길 \\n 공지사항 \\n \\n \\n \\n \\n 명칭:  주식회사 인벤  | 등록번호: 경기 아51514 |  등록연월일: 2009. 12. 14 | 제호: 인벤 (INVEN) \\n 발행인: 박규상 | 편집인: 강민우 |  발행소: 경기도 성남시 분당구 구미로 9번길 3-4 한국빌딩 3층 \\n 발행연월일: 2004 11. 11 |  전화번호: 02 - 6393 - 7700 | E-mail: help@inven.co.kr \\n 인벤의 콘텐츠 및 기사는 저작권법의 보호를 받으므로, 무단 전재, 복사, 배포 등을 금합니다. \\n Copyrightⓒ  Inven.  All rights reserved. \\n \\n \\n \\n 인터넷 신문 위원회 배너 \\n \\n \\n 2023.08.26 ~ 2026.08.25 \\n 인벤 온라인서비스 운영 \\n (웹진, 커뮤니티, 마켓인벤) \\n \\n \\n \\n \\n \\n ▲ \\n \\n(주)인벤 사업자등록번호 : 120-86-74756 \\n대표전화 : 02-6393-7700 \\nFAX : 02-6393-7706 \\n인벤의 콘텐츠 및 기사는 저작권법의 보호를 받으므로, 무단 전재·복사·배포 등을 금합니다. \\nCopyright © Inven Communications. All rights reserved.\\n \\n \\n  Google tag (gtag.js)  \\n \\n \\n \\n \\n \\n \\n    #siteBody'"
      ]
     },
     "execution_count": 7,
     "metadata": {},
     "output_type": "execute_result"
    }
   ],
   "source": [
    "bs4_scrape(downloaded)"
   ]
  },
  {
   "cell_type": "code",
   "execution_count": null,
   "id": "b396790b-76f1-4a73-942c-e6ff8546fb90",
   "metadata": {},
   "outputs": [],
   "source": []
  }
 ],
 "metadata": {
  "kernelspec": {
   "display_name": "Python 3 (ipykernel)",
   "language": "python",
   "name": "python3"
  },
  "language_info": {
   "codemirror_mode": {
    "name": "ipython",
    "version": 3
   },
   "file_extension": ".py",
   "mimetype": "text/x-python",
   "name": "python",
   "nbconvert_exporter": "python",
   "pygments_lexer": "ipython3",
   "version": "3.12.6"
  }
 },
 "nbformat": 4,
 "nbformat_minor": 5
}
